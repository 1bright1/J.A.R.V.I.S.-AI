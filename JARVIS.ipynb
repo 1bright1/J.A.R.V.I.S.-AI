{
 "cells": [
  {
   "cell_type": "code",
   "execution_count": 1,
   "metadata": {},
   "outputs": [
    {
     "name": "stdout",
     "output_type": "stream",
     "text": [
      "Requirement already satisfied: SpeechRecognition in c:\\users\\brite\\anaconda3\\lib\\site-packages (3.10.4)\n",
      "Requirement already satisfied: typing-extensions in c:\\users\\brite\\anaconda3\\lib\\site-packages (from SpeechRecognition) (4.3.0)\n",
      "Requirement already satisfied: requests>=2.26.0 in c:\\users\\brite\\anaconda3\\lib\\site-packages (from SpeechRecognition) (2.28.1)\n",
      "Requirement already satisfied: urllib3<1.27,>=1.21.1 in c:\\users\\brite\\anaconda3\\lib\\site-packages (from requests>=2.26.0->SpeechRecognition) (1.26.11)\n",
      "Requirement already satisfied: idna<4,>=2.5 in c:\\users\\brite\\anaconda3\\lib\\site-packages (from requests>=2.26.0->SpeechRecognition) (3.3)\n",
      "Requirement already satisfied: certifi>=2017.4.17 in c:\\users\\brite\\anaconda3\\lib\\site-packages (from requests>=2.26.0->SpeechRecognition) (2022.9.14)\n",
      "Requirement already satisfied: charset-normalizer<3,>=2 in c:\\users\\brite\\anaconda3\\lib\\site-packages (from requests>=2.26.0->SpeechRecognition) (2.0.4)\n",
      "Requirement already satisfied: nltk in c:\\users\\brite\\anaconda3\\lib\\site-packages (3.8.1)\n",
      "Requirement already satisfied: joblib in c:\\users\\brite\\anaconda3\\lib\\site-packages (from nltk) (1.1.0)\n",
      "Requirement already satisfied: click in c:\\users\\brite\\anaconda3\\lib\\site-packages (from nltk) (8.0.4)\n",
      "Requirement already satisfied: regex>=2021.8.3 in c:\\users\\brite\\anaconda3\\lib\\site-packages (from nltk) (2022.7.9)\n",
      "Requirement already satisfied: tqdm in c:\\users\\brite\\anaconda3\\lib\\site-packages (from nltk) (4.64.1)\n",
      "Requirement already satisfied: colorama in c:\\users\\brite\\anaconda3\\lib\\site-packages (from click->nltk) (0.4.6)\n",
      "Requirement already satisfied: pyttsx3 in c:\\users\\brite\\anaconda3\\lib\\site-packages (2.90)\n",
      "Requirement already satisfied: pypiwin32 in c:\\users\\brite\\anaconda3\\lib\\site-packages (from pyttsx3) (223)\n",
      "Requirement already satisfied: comtypes in c:\\users\\brite\\anaconda3\\lib\\site-packages (from pyttsx3) (1.1.10)\n",
      "Requirement already satisfied: pywin32 in c:\\users\\brite\\anaconda3\\lib\\site-packages (from pyttsx3) (302)\n",
      "Requirement already satisfied: torch in c:\\users\\brite\\anaconda3\\lib\\site-packages (2.1.1)\n",
      "Requirement already satisfied: filelock in c:\\users\\brite\\anaconda3\\lib\\site-packages (from torch) (3.6.0)\n",
      "Requirement already satisfied: typing-extensions in c:\\users\\brite\\anaconda3\\lib\\site-packages (from torch) (4.3.0)\n",
      "Requirement already satisfied: fsspec in c:\\users\\brite\\anaconda3\\lib\\site-packages (from torch) (2023.10.0)\n",
      "Requirement already satisfied: jinja2 in c:\\users\\brite\\anaconda3\\lib\\site-packages (from torch) (2.11.3)\n",
      "Requirement already satisfied: sympy in c:\\users\\brite\\anaconda3\\lib\\site-packages (from torch) (1.10.1)\n",
      "Requirement already satisfied: networkx in c:\\users\\brite\\anaconda3\\lib\\site-packages (from torch) (2.8.4)\n",
      "Requirement already satisfied: MarkupSafe>=0.23 in c:\\users\\brite\\anaconda3\\lib\\site-packages (from jinja2->torch) (2.0.1)\n",
      "Requirement already satisfied: mpmath>=0.19 in c:\\users\\brite\\anaconda3\\lib\\site-packages (from sympy->torch) (1.2.1)\n",
      "Requirement already satisfied: tensorflow in c:\\users\\brite\\anaconda3\\lib\\site-packages (2.16.1)\n",
      "Requirement already satisfied: tensorflow-intel==2.16.1 in c:\\users\\brite\\anaconda3\\lib\\site-packages (from tensorflow) (2.16.1)\n",
      "Requirement already satisfied: astunparse>=1.6.0 in c:\\users\\brite\\anaconda3\\lib\\site-packages (from tensorflow-intel==2.16.1->tensorflow) (1.6.3)\n",
      "Requirement already satisfied: tensorflow-io-gcs-filesystem>=0.23.1 in c:\\users\\brite\\anaconda3\\lib\\site-packages (from tensorflow-intel==2.16.1->tensorflow) (0.31.0)\n",
      "Requirement already satisfied: grpcio<2.0,>=1.24.3 in c:\\users\\brite\\anaconda3\\lib\\site-packages (from tensorflow-intel==2.16.1->tensorflow) (1.63.0)\n",
      "Requirement already satisfied: requests<3,>=2.21.0 in c:\\users\\brite\\anaconda3\\lib\\site-packages (from tensorflow-intel==2.16.1->tensorflow) (2.28.1)\n",
      "Requirement already satisfied: keras>=3.0.0 in c:\\users\\brite\\anaconda3\\lib\\site-packages (from tensorflow-intel==2.16.1->tensorflow) (3.3.3)\n",
      "Requirement already satisfied: six>=1.12.0 in c:\\users\\brite\\anaconda3\\lib\\site-packages (from tensorflow-intel==2.16.1->tensorflow) (1.16.0)\n",
      "Requirement already satisfied: packaging in c:\\users\\brite\\anaconda3\\lib\\site-packages (from tensorflow-intel==2.16.1->tensorflow) (21.3)\n",
      "Requirement already satisfied: gast!=0.5.0,!=0.5.1,!=0.5.2,>=0.2.1 in c:\\users\\brite\\anaconda3\\lib\\site-packages (from tensorflow-intel==2.16.1->tensorflow) (0.5.4)\n",
      "Requirement already satisfied: typing-extensions>=3.6.6 in c:\\users\\brite\\anaconda3\\lib\\site-packages (from tensorflow-intel==2.16.1->tensorflow) (4.3.0)\n",
      "Requirement already satisfied: absl-py>=1.0.0 in c:\\users\\brite\\anaconda3\\lib\\site-packages (from tensorflow-intel==2.16.1->tensorflow) (2.1.0)\n",
      "Requirement already satisfied: flatbuffers>=23.5.26 in c:\\users\\brite\\anaconda3\\lib\\site-packages (from tensorflow-intel==2.16.1->tensorflow) (24.3.25)\n",
      "Requirement already satisfied: termcolor>=1.1.0 in c:\\users\\brite\\anaconda3\\lib\\site-packages (from tensorflow-intel==2.16.1->tensorflow) (2.4.0)\n",
      "Requirement already satisfied: numpy<2.0.0,>=1.23.5 in c:\\users\\brite\\anaconda3\\lib\\site-packages (from tensorflow-intel==2.16.1->tensorflow) (1.24.4)\n",
      "Requirement already satisfied: setuptools in c:\\users\\brite\\anaconda3\\lib\\site-packages (from tensorflow-intel==2.16.1->tensorflow) (63.4.1)\n",
      "Requirement already satisfied: opt-einsum>=2.3.2 in c:\\users\\brite\\anaconda3\\lib\\site-packages (from tensorflow-intel==2.16.1->tensorflow) (3.3.0)\n",
      "Requirement already satisfied: h5py>=3.10.0 in c:\\users\\brite\\anaconda3\\lib\\site-packages (from tensorflow-intel==2.16.1->tensorflow) (3.11.0)\n",
      "Requirement already satisfied: tensorboard<2.17,>=2.16 in c:\\users\\brite\\anaconda3\\lib\\site-packages (from tensorflow-intel==2.16.1->tensorflow) (2.16.2)\n",
      "Requirement already satisfied: google-pasta>=0.1.1 in c:\\users\\brite\\anaconda3\\lib\\site-packages (from tensorflow-intel==2.16.1->tensorflow) (0.2.0)\n",
      "Requirement already satisfied: libclang>=13.0.0 in c:\\users\\brite\\anaconda3\\lib\\site-packages (from tensorflow-intel==2.16.1->tensorflow) (18.1.1)\n",
      "Requirement already satisfied: wrapt>=1.11.0 in c:\\users\\brite\\anaconda3\\lib\\site-packages (from tensorflow-intel==2.16.1->tensorflow) (1.14.1)\n",
      "Requirement already satisfied: protobuf!=4.21.0,!=4.21.1,!=4.21.2,!=4.21.3,!=4.21.4,!=4.21.5,<5.0.0dev,>=3.20.3 in c:\\users\\brite\\anaconda3\\lib\\site-packages (from tensorflow-intel==2.16.1->tensorflow) (4.25.3)\n",
      "Requirement already satisfied: ml-dtypes~=0.3.1 in c:\\users\\brite\\anaconda3\\lib\\site-packages (from tensorflow-intel==2.16.1->tensorflow) (0.3.2)\n",
      "Requirement already satisfied: wheel<1.0,>=0.23.0 in c:\\users\\brite\\anaconda3\\lib\\site-packages (from astunparse>=1.6.0->tensorflow-intel==2.16.1->tensorflow) (0.37.1)\n",
      "Requirement already satisfied: namex in c:\\users\\brite\\anaconda3\\lib\\site-packages (from keras>=3.0.0->tensorflow-intel==2.16.1->tensorflow) (0.0.8)\n",
      "Requirement already satisfied: rich in c:\\users\\brite\\anaconda3\\lib\\site-packages (from keras>=3.0.0->tensorflow-intel==2.16.1->tensorflow) (13.7.1)\n",
      "Requirement already satisfied: optree in c:\\users\\brite\\anaconda3\\lib\\site-packages (from keras>=3.0.0->tensorflow-intel==2.16.1->tensorflow) (0.11.0)\n",
      "Requirement already satisfied: urllib3<1.27,>=1.21.1 in c:\\users\\brite\\anaconda3\\lib\\site-packages (from requests<3,>=2.21.0->tensorflow-intel==2.16.1->tensorflow) (1.26.11)\n",
      "Requirement already satisfied: certifi>=2017.4.17 in c:\\users\\brite\\anaconda3\\lib\\site-packages (from requests<3,>=2.21.0->tensorflow-intel==2.16.1->tensorflow) (2022.9.14)\n",
      "Requirement already satisfied: charset-normalizer<3,>=2 in c:\\users\\brite\\anaconda3\\lib\\site-packages (from requests<3,>=2.21.0->tensorflow-intel==2.16.1->tensorflow) (2.0.4)\n",
      "Requirement already satisfied: idna<4,>=2.5 in c:\\users\\brite\\anaconda3\\lib\\site-packages (from requests<3,>=2.21.0->tensorflow-intel==2.16.1->tensorflow) (3.3)\n",
      "Requirement already satisfied: tensorboard-data-server<0.8.0,>=0.7.0 in c:\\users\\brite\\anaconda3\\lib\\site-packages (from tensorboard<2.17,>=2.16->tensorflow-intel==2.16.1->tensorflow) (0.7.2)\n",
      "Requirement already satisfied: werkzeug>=1.0.1 in c:\\users\\brite\\anaconda3\\lib\\site-packages (from tensorboard<2.17,>=2.16->tensorflow-intel==2.16.1->tensorflow) (2.0.3)\n",
      "Requirement already satisfied: markdown>=2.6.8 in c:\\users\\brite\\anaconda3\\lib\\site-packages (from tensorboard<2.17,>=2.16->tensorflow-intel==2.16.1->tensorflow) (3.3.4)\n",
      "Requirement already satisfied: pyparsing!=3.0.5,>=2.0.2 in c:\\users\\brite\\anaconda3\\lib\\site-packages (from packaging->tensorflow-intel==2.16.1->tensorflow) (3.0.9)\n",
      "Requirement already satisfied: pygments<3.0.0,>=2.13.0 in c:\\users\\brite\\anaconda3\\lib\\site-packages (from rich->keras>=3.0.0->tensorflow-intel==2.16.1->tensorflow) (2.17.2)\n",
      "Requirement already satisfied: markdown-it-py>=2.2.0 in c:\\users\\brite\\anaconda3\\lib\\site-packages (from rich->keras>=3.0.0->tensorflow-intel==2.16.1->tensorflow) (3.0.0)\n",
      "Requirement already satisfied: mdurl~=0.1 in c:\\users\\brite\\anaconda3\\lib\\site-packages (from markdown-it-py>=2.2.0->rich->keras>=3.0.0->tensorflow-intel==2.16.1->tensorflow) (0.1.2)\n"
     ]
    }
   ],
   "source": [
    "!pip install SpeechRecognition\n",
    "!pip install nltk\n",
    "!pip install pyttsx3\n",
    "!pip install torch\n",
    "!pip install tensorflow"
   ]
  },
  {
   "cell_type": "code",
   "execution_count": 2,
   "metadata": {},
   "outputs": [],
   "source": [
    "import speech_recognition as sr\n",
    "r = sr.Recognizer()"
   ]
  },
  {
   "cell_type": "code",
   "execution_count": null,
   "metadata": {},
   "outputs": [],
   "source": [
    "## Translating Audio files to text\n",
    "from os import path\n",
    "AUDIO_FILE = \"Demo.wav\"\n",
    "audio_file = sr.AudioFile(AUDIO_FILE)\n",
    "\n",
    "with audio_file as source:\n",
    "    r.adjust_for_ambient_noise(source)\n",
    "    audio = r.record(source)\n",
    "\n",
    "try:\n",
    "    print(\"Jarvis think you said \"+ r.recognize_google(audio)) #using google web speech API\n",
    "except sr.UnknownValueError:\n",
    "    print(\"Jarvis could not understand audio\")\n",
    "except sr.RequestError:\n",
    "    print(\"Jarvis error; {0}\".format(e))\n"
   ]
  },
  {
   "cell_type": "code",
   "execution_count": 3,
   "metadata": {},
   "outputs": [
    {
     "name": "stdout",
     "output_type": "stream",
     "text": [
      "Requirement already satisfied: scipy in c:\\users\\brite\\anaconda3\\lib\\site-packages (1.9.1)\n",
      "Requirement already satisfied: numpy<1.25.0,>=1.18.5 in c:\\users\\brite\\anaconda3\\lib\\site-packages (from scipy) (1.24.4)\n"
     ]
    }
   ],
   "source": [
    "!pip install scipy"
   ]
  },
  {
   "cell_type": "code",
   "execution_count": null,
   "metadata": {},
   "outputs": [],
   "source": [
    "##Translating Audio files to text utilizing sciPY to handle noise in an audio file\n",
    "import scipy.io.wavfile as wav\n",
    "from scipy.signal import medfilt\n",
    "\n",
    "#load  audio file \n",
    "rate, data = wav.read(AUDIO_FILE)\n",
    "\n",
    "#apply median filtering to remove noise\n",
    "filtered_data = medfilt(data)\n",
    "\n",
    "#convert the filtered audio format back to a format compatible with Speech recognition \n",
    "#filtered_audio_file = sr.AudioData(filtered_data.tobytes(), sample_rate=rate, sample_width=2)\n",
    "\n",
    "#write the filtered data to a new audio file\n",
    "filtered_audio_file_path = \"filter_audio.wav\"\n",
    "wav.write(filtered_audio_file_path, rate, filtered_data)\n",
    "\n",
    "filtered_audio_file = sr.AudioFile(filtered_audio_file_path)\n",
    "try:\n",
    "    with filtered_audio_file as source:\n",
    "        audio = r.record(source)\n",
    "    print(\"J.A.R.V.I.S. thinks you said: \" + r.recognize_google(audio))  # Using Google Web Speech API\n",
    "except sr.UnknownValueError:\n",
    "    print(\"J.A.R.V.I.S. could not understand audio\")\n",
    "except sr.RequestError as e:\n",
    "    print(\"J.A.R.V.I.S. error: {0}\".format(e))"
   ]
  },
  {
   "cell_type": "code",
   "execution_count": null,
   "metadata": {},
   "outputs": [],
   "source": [
    "def audioToText1 (AUDIO_FILE): #translating audio files to text function\n",
    "    audio_file = sr.AudioFile(AUDIO_FILE)\n",
    "\n",
    "    with audio_file as source:\n",
    "        r.adjust_for_ambient_noise(source)\n",
    "        audio = r.record(source)\n",
    "\n",
    "    try:\n",
    "        print(\"Jarvis think you said \"+ r.recognize_google(audio)) #using google web speech API\n",
    "    except sr.UnknownValueError:\n",
    "        print(\"Jarvis could not understand audio\")\n",
    "    except sr.RequestError:\n",
    "        print(\"Jarvis error; {0}\".format(e))\n",
    "\n",
    "audioToText1(\"Demo.wav\")"
   ]
  },
  {
   "cell_type": "code",
   "execution_count": null,
   "metadata": {},
   "outputs": [],
   "source": [
    "def audioToText2 (AUDIO_FILE): #Translating Audio files to text utilizing sciPY to handle noise in an audio file function\n",
    "    #load  audio file \n",
    "    rate, data = wav.read(AUDIO_FILE)\n",
    "\n",
    "    #apply median filtering to remove noise\n",
    "    filtered_data = medfilt(data)\n",
    "\n",
    "    #convert the filtered audio format back to a format compatible with Speech recognition \n",
    "    #filtered_audio_file = sr.AudioData(filtered_data.tobytes(), sample_rate=rate, sample_width=2)\n",
    "\n",
    "    #write the filtered data to a new audio file\n",
    "    filtered_audio_file_path = \"filter_audio.wav\"\n",
    "    wav.write(filtered_audio_file_path, rate, filtered_data)\n",
    "\n",
    "    filtered_audio_file = sr.AudioFile(filtered_audio_file_path)\n",
    "    try:\n",
    "        with filtered_audio_file as source:\n",
    "            audio = r.record(source)\n",
    "        print(\"J.A.R.V.I.S. thinks you said: \" + r.recognize_google(audio))  # Using Google Web Speech API\n",
    "    except sr.UnknownValueError:\n",
    "        print(\"J.A.R.V.I.S. could not understand audio\")\n",
    "    except sr.RequestError as e:\n",
    "        print(\"J.A.R.V.I.S. error: {0}\".format(e))\n",
    "\n",
    "audioToText2(\"Demo.wav\")"
   ]
  },
  {
   "cell_type": "code",
   "execution_count": 4,
   "metadata": {},
   "outputs": [
    {
     "name": "stdout",
     "output_type": "stream",
     "text": [
      "Requirement already satisfied: pyaudio in c:\\users\\brite\\anaconda3\\lib\\site-packages (0.2.14)\n"
     ]
    },
    {
     "data": {
      "text/plain": [
       "['Microsoft Sound Mapper - Input',\n",
       " 'Microphone Array (Intel® Smart ',\n",
       " 'Microsoft Sound Mapper - Output',\n",
       " 'Speaker (Realtek(R) Audio)',\n",
       " 'Primary Sound Capture Driver',\n",
       " 'Microphone Array (Intel® Smart Sound Technology for Digital Microphones)',\n",
       " 'Primary Sound Driver',\n",
       " 'Speaker (Realtek(R) Audio)',\n",
       " 'Speaker (Realtek(R) Audio)',\n",
       " 'Microphone Array (Intel® Smart Sound Technology for Digital Microphones)',\n",
       " 'Speakers 1 (Realtek HD Audio output with SST)',\n",
       " 'Speakers 2 (Realtek HD Audio output with SST)',\n",
       " 'PC Speaker (Realtek HD Audio output with SST)',\n",
       " 'Stereo Mix (Realtek HD Audio Stereo input)',\n",
       " 'Headphones 1 (Realtek HD Audio 2nd output with SST)',\n",
       " 'Headphones 2 (Realtek HD Audio 2nd output with SST)',\n",
       " 'PC Speaker (Realtek HD Audio 2nd output with SST)',\n",
       " 'Microphone (Realtek HD Audio Mic input)',\n",
       " 'Headset (@System32\\\\drivers\\\\bthhfenum.sys,#2;%1 Hands-Free AG Audio%0\\r\\n;(AirPods))',\n",
       " 'Headset (@System32\\\\drivers\\\\bthhfenum.sys,#2;%1 Hands-Free AG Audio%0\\r\\n;(AirPods))',\n",
       " 'Headset (@System32\\\\drivers\\\\bthhfenum.sys,#2;%1 Hands-Free AG Audio%0\\r\\n;(JBL TUNE660NC))',\n",
       " 'Headset (@System32\\\\drivers\\\\bthhfenum.sys,#2;%1 Hands-Free AG Audio%0\\r\\n;(JBL TUNE660NC))',\n",
       " 'Headphones ()',\n",
       " 'Headset (@System32\\\\drivers\\\\bthhfenum.sys,#2;%1 Hands-Free AG Audio%0\\r\\n;(KB💫’s AirPods #2))',\n",
       " 'Headset (@System32\\\\drivers\\\\bthhfenum.sys,#2;%1 Hands-Free AG Audio%0\\r\\n;(KB💫’s AirPods #2))',\n",
       " 'Microphone Array 1 (Intel® Smart Sound Technology DMIC Microphone)',\n",
       " 'Microphone Array 2 (Intel® Smart Sound Technology DMIC Microphone)',\n",
       " 'Headphones ()',\n",
       " 'Headphones ()',\n",
       " 'Headset (@System32\\\\drivers\\\\bthhfenum.sys,#2;%1 Hands-Free AG Audio%0\\r\\n;(KB💫’s AirPods Pro))',\n",
       " 'Headset (@System32\\\\drivers\\\\bthhfenum.sys,#2;%1 Hands-Free AG Audio%0\\r\\n;(KB💫’s AirPods Pro))',\n",
       " 'Headphones ()']"
      ]
     },
     "execution_count": 4,
     "metadata": {},
     "output_type": "execute_result"
    }
   ],
   "source": [
    "!pip install pyaudio\n",
    "mic = sr.Microphone()\n",
    "sr.Microphone.list_microphone_names()"
   ]
  },
  {
   "cell_type": "code",
   "execution_count": 5,
   "metadata": {},
   "outputs": [
    {
     "name": "stdout",
     "output_type": "stream",
     "text": [
      "Say Something!\n",
      "J.A.R.V.I.S. think you said I am Batman\n"
     ]
    }
   ],
   "source": [
    "#Live audio from microphones to text\n",
    "def micToText1():\n",
    "    with mic as source:\n",
    "        print(\"Say Something!\")\n",
    "        r.adjust_for_ambient_noise(source)\n",
    "        audio = r.listen(source)\n",
    "\n",
    "    try:\n",
    "        print(\"J.A.R.V.I.S. think you said \"+ r.recognize_google(audio)) #using google web speech API\n",
    "    except sr.UnknownValueError:\n",
    "        print(\"J.A.R.V.I.S. could not understand audio\")\n",
    "    except sr.RequestError:\n",
    "        print(\"J.A.R.V.I.S. error; {0}\".format(e))\n",
    "\n",
    "micToText1()"
   ]
  },
  {
   "cell_type": "code",
   "execution_count": 6,
   "metadata": {},
   "outputs": [
    {
     "name": "stderr",
     "output_type": "stream",
     "text": [
      "ERROR: Invalid requirement: '#'\n",
      "[nltk_data] Downloading package punkt to\n",
      "[nltk_data]     C:\\Users\\brite\\AppData\\Roaming\\nltk_data...\n",
      "[nltk_data]   Package punkt is already up-to-date!\n",
      "[nltk_data] Downloading package averaged_perceptron_tagger to\n",
      "[nltk_data]     C:\\Users\\brite\\AppData\\Roaming\\nltk_data...\n",
      "[nltk_data]   Package averaged_perceptron_tagger is already up-to-\n",
      "[nltk_data]       date!\n",
      "[nltk_data] Downloading package wordnet to\n",
      "[nltk_data]     C:\\Users\\brite\\AppData\\Roaming\\nltk_data...\n",
      "[nltk_data]   Package wordnet is already up-to-date!\n"
     ]
    },
    {
     "data": {
      "text/plain": [
       "True"
      ]
     },
     "execution_count": 6,
     "metadata": {},
     "output_type": "execute_result"
    }
   ],
   "source": [
    "!pip install nltk spacy # for natural language processing\n",
    "import nltk\n",
    "nltk.download('punkt') #for tokenization\n",
    "nltk.download('averaged_perceptron_tagger') #part-of-speech tagging\n",
    "nltk.download('wordnet') # for wordnet lemmatizer"
   ]
  },
  {
   "cell_type": "code",
   "execution_count": 7,
   "metadata": {},
   "outputs": [
    {
     "name": "stdout",
     "output_type": "stream",
     "text": [
      "Requirement already satisfied: spacy in c:\\users\\brite\\anaconda3\\lib\\site-packages (3.7.4)\n",
      "Requirement already satisfied: requests<3.0.0,>=2.13.0 in c:\\users\\brite\\anaconda3\\lib\\site-packages (from spacy) (2.28.1)\n",
      "Requirement already satisfied: spacy-loggers<2.0.0,>=1.0.0 in c:\\users\\brite\\anaconda3\\lib\\site-packages (from spacy) (1.0.5)\n",
      "Requirement already satisfied: preshed<3.1.0,>=3.0.2 in c:\\users\\brite\\anaconda3\\lib\\site-packages (from spacy) (3.0.9)\n",
      "Requirement already satisfied: packaging>=20.0 in c:\\users\\brite\\anaconda3\\lib\\site-packages (from spacy) (21.3)\n",
      "Requirement already satisfied: numpy>=1.19.0 in c:\\users\\brite\\anaconda3\\lib\\site-packages (from spacy) (1.24.4)\n",
      "Requirement already satisfied: weasel<0.4.0,>=0.1.0 in c:\\users\\brite\\anaconda3\\lib\\site-packages (from spacy) (0.3.4)\n",
      "Requirement already satisfied: catalogue<2.1.0,>=2.0.6 in c:\\users\\brite\\anaconda3\\lib\\site-packages (from spacy) (2.0.10)\n",
      "Requirement already satisfied: jinja2 in c:\\users\\brite\\anaconda3\\lib\\site-packages (from spacy) (2.11.3)\n",
      "Requirement already satisfied: murmurhash<1.1.0,>=0.28.0 in c:\\users\\brite\\anaconda3\\lib\\site-packages (from spacy) (1.0.10)\n",
      "Requirement already satisfied: spacy-legacy<3.1.0,>=3.0.11 in c:\\users\\brite\\anaconda3\\lib\\site-packages (from spacy) (3.0.12)\n",
      "Requirement already satisfied: setuptools in c:\\users\\brite\\anaconda3\\lib\\site-packages (from spacy) (63.4.1)\n",
      "Requirement already satisfied: wasabi<1.2.0,>=0.9.1 in c:\\users\\brite\\anaconda3\\lib\\site-packages (from spacy) (1.1.2)\n",
      "Requirement already satisfied: tqdm<5.0.0,>=4.38.0 in c:\\users\\brite\\anaconda3\\lib\\site-packages (from spacy) (4.64.1)\n",
      "Requirement already satisfied: thinc<8.3.0,>=8.2.2 in c:\\users\\brite\\anaconda3\\lib\\site-packages (from spacy) (8.2.3)\n",
      "Requirement already satisfied: srsly<3.0.0,>=2.4.3 in c:\\users\\brite\\anaconda3\\lib\\site-packages (from spacy) (2.4.8)\n",
      "Requirement already satisfied: smart-open<7.0.0,>=5.2.1 in c:\\users\\brite\\anaconda3\\lib\\site-packages (from spacy) (5.2.1)\n",
      "Requirement already satisfied: typer<0.10.0,>=0.3.0 in c:\\users\\brite\\anaconda3\\lib\\site-packages (from spacy) (0.9.4)\n",
      "Requirement already satisfied: cymem<2.1.0,>=2.0.2 in c:\\users\\brite\\anaconda3\\lib\\site-packages (from spacy) (2.0.8)\n",
      "Requirement already satisfied: pydantic!=1.8,!=1.8.1,<3.0.0,>=1.7.4 in c:\\users\\brite\\anaconda3\\lib\\site-packages (from spacy) (1.10.15)\n",
      "Requirement already satisfied: langcodes<4.0.0,>=3.2.0 in c:\\users\\brite\\anaconda3\\lib\\site-packages (from spacy) (3.4.0)\n",
      "Requirement already satisfied: language-data>=1.2 in c:\\users\\brite\\anaconda3\\lib\\site-packages (from langcodes<4.0.0,>=3.2.0->spacy) (1.2.0)\n",
      "Requirement already satisfied: pyparsing!=3.0.5,>=2.0.2 in c:\\users\\brite\\anaconda3\\lib\\site-packages (from packaging>=20.0->spacy) (3.0.9)\n",
      "Requirement already satisfied: typing-extensions>=4.2.0 in c:\\users\\brite\\anaconda3\\lib\\site-packages (from pydantic!=1.8,!=1.8.1,<3.0.0,>=1.7.4->spacy) (4.3.0)\n",
      "Requirement already satisfied: charset-normalizer<3,>=2 in c:\\users\\brite\\anaconda3\\lib\\site-packages (from requests<3.0.0,>=2.13.0->spacy) (2.0.4)\n",
      "Requirement already satisfied: idna<4,>=2.5 in c:\\users\\brite\\anaconda3\\lib\\site-packages (from requests<3.0.0,>=2.13.0->spacy) (3.3)\n",
      "Requirement already satisfied: certifi>=2017.4.17 in c:\\users\\brite\\anaconda3\\lib\\site-packages (from requests<3.0.0,>=2.13.0->spacy) (2022.9.14)\n",
      "Requirement already satisfied: urllib3<1.27,>=1.21.1 in c:\\users\\brite\\anaconda3\\lib\\site-packages (from requests<3.0.0,>=2.13.0->spacy) (1.26.11)\n",
      "Requirement already satisfied: blis<0.8.0,>=0.7.8 in c:\\users\\brite\\anaconda3\\lib\\site-packages (from thinc<8.3.0,>=8.2.2->spacy) (0.7.11)\n",
      "Requirement already satisfied: confection<1.0.0,>=0.0.1 in c:\\users\\brite\\anaconda3\\lib\\site-packages (from thinc<8.3.0,>=8.2.2->spacy) (0.1.4)\n",
      "Requirement already satisfied: colorama in c:\\users\\brite\\anaconda3\\lib\\site-packages (from tqdm<5.0.0,>=4.38.0->spacy) (0.4.6)\n",
      "Requirement already satisfied: click<9.0.0,>=7.1.1 in c:\\users\\brite\\anaconda3\\lib\\site-packages (from typer<0.10.0,>=0.3.0->spacy) (8.0.4)\n",
      "Requirement already satisfied: cloudpathlib<0.17.0,>=0.7.0 in c:\\users\\brite\\anaconda3\\lib\\site-packages (from weasel<0.4.0,>=0.1.0->spacy) (0.16.0)\n",
      "Requirement already satisfied: MarkupSafe>=0.23 in c:\\users\\brite\\anaconda3\\lib\\site-packages (from jinja2->spacy) (2.0.1)\n",
      "Requirement already satisfied: marisa-trie>=0.7.7 in c:\\users\\brite\\anaconda3\\lib\\site-packages (from language-data>=1.2->langcodes<4.0.0,>=3.2.0->spacy) (1.1.1)\n",
      "Collecting en-core-web-sm==3.7.1\n",
      "  Downloading https://github.com/explosion/spacy-models/releases/download/en_core_web_sm-3.7.1/en_core_web_sm-3.7.1-py3-none-any.whl (12.8 MB)\n",
      "     --------------------------------------- 12.8/12.8 MB 28.5 MB/s eta 0:00:00\n",
      "Requirement already satisfied: spacy<3.8.0,>=3.7.2 in c:\\users\\brite\\anaconda3\\lib\\site-packages (from en-core-web-sm==3.7.1) (3.7.4)\n",
      "Requirement already satisfied: preshed<3.1.0,>=3.0.2 in c:\\users\\brite\\anaconda3\\lib\\site-packages (from spacy<3.8.0,>=3.7.2->en-core-web-sm==3.7.1) (3.0.9)\n",
      "Requirement already satisfied: jinja2 in c:\\users\\brite\\anaconda3\\lib\\site-packages (from spacy<3.8.0,>=3.7.2->en-core-web-sm==3.7.1) (2.11.3)\n",
      "Requirement already satisfied: numpy>=1.19.0 in c:\\users\\brite\\anaconda3\\lib\\site-packages (from spacy<3.8.0,>=3.7.2->en-core-web-sm==3.7.1) (1.24.4)\n",
      "Requirement already satisfied: tqdm<5.0.0,>=4.38.0 in c:\\users\\brite\\anaconda3\\lib\\site-packages (from spacy<3.8.0,>=3.7.2->en-core-web-sm==3.7.1) (4.64.1)\n",
      "Requirement already satisfied: typer<0.10.0,>=0.3.0 in c:\\users\\brite\\anaconda3\\lib\\site-packages (from spacy<3.8.0,>=3.7.2->en-core-web-sm==3.7.1) (0.9.4)\n",
      "Requirement already satisfied: smart-open<7.0.0,>=5.2.1 in c:\\users\\brite\\anaconda3\\lib\\site-packages (from spacy<3.8.0,>=3.7.2->en-core-web-sm==3.7.1) (5.2.1)\n",
      "Requirement already satisfied: requests<3.0.0,>=2.13.0 in c:\\users\\brite\\anaconda3\\lib\\site-packages (from spacy<3.8.0,>=3.7.2->en-core-web-sm==3.7.1) (2.28.1)\n",
      "Requirement already satisfied: thinc<8.3.0,>=8.2.2 in c:\\users\\brite\\anaconda3\\lib\\site-packages (from spacy<3.8.0,>=3.7.2->en-core-web-sm==3.7.1) (8.2.3)\n",
      "Requirement already satisfied: langcodes<4.0.0,>=3.2.0 in c:\\users\\brite\\anaconda3\\lib\\site-packages (from spacy<3.8.0,>=3.7.2->en-core-web-sm==3.7.1) (3.4.0)\n",
      "Requirement already satisfied: catalogue<2.1.0,>=2.0.6 in c:\\users\\brite\\anaconda3\\lib\\site-packages (from spacy<3.8.0,>=3.7.2->en-core-web-sm==3.7.1) (2.0.10)\n",
      "Requirement already satisfied: weasel<0.4.0,>=0.1.0 in c:\\users\\brite\\anaconda3\\lib\\site-packages (from spacy<3.8.0,>=3.7.2->en-core-web-sm==3.7.1) (0.3.4)\n",
      "Requirement already satisfied: wasabi<1.2.0,>=0.9.1 in c:\\users\\brite\\anaconda3\\lib\\site-packages (from spacy<3.8.0,>=3.7.2->en-core-web-sm==3.7.1) (1.1.2)\n",
      "Requirement already satisfied: spacy-legacy<3.1.0,>=3.0.11 in c:\\users\\brite\\anaconda3\\lib\\site-packages (from spacy<3.8.0,>=3.7.2->en-core-web-sm==3.7.1) (3.0.12)\n",
      "Requirement already satisfied: cymem<2.1.0,>=2.0.2 in c:\\users\\brite\\anaconda3\\lib\\site-packages (from spacy<3.8.0,>=3.7.2->en-core-web-sm==3.7.1) (2.0.8)\n",
      "Requirement already satisfied: srsly<3.0.0,>=2.4.3 in c:\\users\\brite\\anaconda3\\lib\\site-packages (from spacy<3.8.0,>=3.7.2->en-core-web-sm==3.7.1) (2.4.8)\n",
      "Requirement already satisfied: setuptools in c:\\users\\brite\\anaconda3\\lib\\site-packages (from spacy<3.8.0,>=3.7.2->en-core-web-sm==3.7.1) (63.4.1)\n",
      "Requirement already satisfied: packaging>=20.0 in c:\\users\\brite\\anaconda3\\lib\\site-packages (from spacy<3.8.0,>=3.7.2->en-core-web-sm==3.7.1) (21.3)\n",
      "Requirement already satisfied: pydantic!=1.8,!=1.8.1,<3.0.0,>=1.7.4 in c:\\users\\brite\\anaconda3\\lib\\site-packages (from spacy<3.8.0,>=3.7.2->en-core-web-sm==3.7.1) (1.10.15)\n",
      "Requirement already satisfied: murmurhash<1.1.0,>=0.28.0 in c:\\users\\brite\\anaconda3\\lib\\site-packages (from spacy<3.8.0,>=3.7.2->en-core-web-sm==3.7.1) (1.0.10)\n",
      "Requirement already satisfied: spacy-loggers<2.0.0,>=1.0.0 in c:\\users\\brite\\anaconda3\\lib\\site-packages (from spacy<3.8.0,>=3.7.2->en-core-web-sm==3.7.1) (1.0.5)\n",
      "Requirement already satisfied: language-data>=1.2 in c:\\users\\brite\\anaconda3\\lib\\site-packages (from langcodes<4.0.0,>=3.2.0->spacy<3.8.0,>=3.7.2->en-core-web-sm==3.7.1) (1.2.0)\n",
      "Requirement already satisfied: pyparsing!=3.0.5,>=2.0.2 in c:\\users\\brite\\anaconda3\\lib\\site-packages (from packaging>=20.0->spacy<3.8.0,>=3.7.2->en-core-web-sm==3.7.1) (3.0.9)\n",
      "Requirement already satisfied: typing-extensions>=4.2.0 in c:\\users\\brite\\anaconda3\\lib\\site-packages (from pydantic!=1.8,!=1.8.1,<3.0.0,>=1.7.4->spacy<3.8.0,>=3.7.2->en-core-web-sm==3.7.1) (4.3.0)\n",
      "Requirement already satisfied: urllib3<1.27,>=1.21.1 in c:\\users\\brite\\anaconda3\\lib\\site-packages (from requests<3.0.0,>=2.13.0->spacy<3.8.0,>=3.7.2->en-core-web-sm==3.7.1) (1.26.11)\n",
      "Requirement already satisfied: certifi>=2017.4.17 in c:\\users\\brite\\anaconda3\\lib\\site-packages (from requests<3.0.0,>=2.13.0->spacy<3.8.0,>=3.7.2->en-core-web-sm==3.7.1) (2022.9.14)\n",
      "Requirement already satisfied: charset-normalizer<3,>=2 in c:\\users\\brite\\anaconda3\\lib\\site-packages (from requests<3.0.0,>=2.13.0->spacy<3.8.0,>=3.7.2->en-core-web-sm==3.7.1) (2.0.4)\n",
      "Requirement already satisfied: idna<4,>=2.5 in c:\\users\\brite\\anaconda3\\lib\\site-packages (from requests<3.0.0,>=2.13.0->spacy<3.8.0,>=3.7.2->en-core-web-sm==3.7.1) (3.3)\n",
      "Requirement already satisfied: confection<1.0.0,>=0.0.1 in c:\\users\\brite\\anaconda3\\lib\\site-packages (from thinc<8.3.0,>=8.2.2->spacy<3.8.0,>=3.7.2->en-core-web-sm==3.7.1) (0.1.4)\n",
      "Requirement already satisfied: blis<0.8.0,>=0.7.8 in c:\\users\\brite\\anaconda3\\lib\\site-packages (from thinc<8.3.0,>=8.2.2->spacy<3.8.0,>=3.7.2->en-core-web-sm==3.7.1) (0.7.11)\n",
      "Requirement already satisfied: colorama in c:\\users\\brite\\anaconda3\\lib\\site-packages (from tqdm<5.0.0,>=4.38.0->spacy<3.8.0,>=3.7.2->en-core-web-sm==3.7.1) (0.4.6)\n",
      "Requirement already satisfied: click<9.0.0,>=7.1.1 in c:\\users\\brite\\anaconda3\\lib\\site-packages (from typer<0.10.0,>=0.3.0->spacy<3.8.0,>=3.7.2->en-core-web-sm==3.7.1) (8.0.4)\n",
      "Requirement already satisfied: cloudpathlib<0.17.0,>=0.7.0 in c:\\users\\brite\\anaconda3\\lib\\site-packages (from weasel<0.4.0,>=0.1.0->spacy<3.8.0,>=3.7.2->en-core-web-sm==3.7.1) (0.16.0)\n",
      "Requirement already satisfied: MarkupSafe>=0.23 in c:\\users\\brite\\anaconda3\\lib\\site-packages (from jinja2->spacy<3.8.0,>=3.7.2->en-core-web-sm==3.7.1) (2.0.1)\n",
      "Requirement already satisfied: marisa-trie>=0.7.7 in c:\\users\\brite\\anaconda3\\lib\\site-packages (from language-data>=1.2->langcodes<4.0.0,>=3.2.0->spacy<3.8.0,>=3.7.2->en-core-web-sm==3.7.1) (1.1.1)\n",
      "\u001b[38;5;2m✔ Download and installation successful\u001b[0m\n",
      "You can now load the package via spacy.load('en_core_web_sm')\n"
     ]
    }
   ],
   "source": [
    "!pip install spacy\n",
    "!python -m spacy download en_core_web_sm\n",
    "import spacy\n",
    "nlp = spacy.load('en_core_web_sm') #downlaoding and loading spaCy's small english model\n",
    "from nltk.tokenize import sent_tokenize, word_tokenize"
   ]
  },
  {
   "cell_type": "code",
   "execution_count": 8,
   "metadata": {},
   "outputs": [
    {
     "name": "stdout",
     "output_type": "stream",
     "text": [
      "{'tokens': ['J.A.R.V.I.S.', ',', 'could', 'you', 'tell', 'me', 'the', 'weather', 'forecast', 'for', 'tomorrow', '?'], 'pos_tags': [('J.A.R.V.I.S.', 'NNP'), (',', ','), ('could', 'MD'), ('you', 'PRP'), ('tell', 'VB'), ('me', 'PRP'), ('the', 'DT'), ('weather', 'NN'), ('forecast', 'NN'), ('for', 'IN'), ('tomorrow', 'NN'), ('?', '.')], 'lemmatized_words': ['J.A.R.V.I.S.', ',', 'could', 'you', 'tell', 'me', 'the', 'weather', 'forecast', 'for', 'tomorrow', '?']}\n"
     ]
    }
   ],
   "source": [
    "from nltk.tag import pos_tag\n",
    "from nltk.corpus import wordnet\n",
    "from nltk.stem import WordNetLemmatizer\n",
    "\n",
    "def nltk_process_text(text):\n",
    "    tokens = word_tokenize(text) # tokenize sample texts by words\n",
    "    tagged = pos_tag(tokens) # part of speech: taging/labeling  words into their different parts of speech (nouns, adjectives, verbs, etc...)\n",
    "\n",
    "    lemmatizer = WordNetLemmatizer() #lemmatizing reduces words to their core meaning\n",
    "    lemmatized_words = [lemmatizer.lemmatize(token) for token in tokens]\n",
    "\n",
    "    return{\n",
    "        \"tokens\": tokens,\n",
    "        \"pos_tags\": tagged,\n",
    "        \"lemmatized_words\": lemmatized_words\n",
    "    }\n",
    "\n",
    "text = \"J.A.R.V.I.S., could you tell me the weather forecast for tomorrow?\"\n",
    "result = nltk_process_text(text)\n",
    "print(result)"
   ]
  },
  {
   "cell_type": "code",
   "execution_count": 9,
   "metadata": {},
   "outputs": [
    {
     "name": "stdout",
     "output_type": "stream",
     "text": [
      "{'tokens': [('J.A.R.V.I.S.', 'PROPN'), (',', 'PUNCT'), ('could', 'AUX'), ('you', 'PRON'), ('tell', 'VERB'), ('me', 'PRON'), ('the', 'DET'), ('weather', 'NOUN'), ('forecast', 'NOUN'), ('for', 'ADP'), ('tomorrow', 'NOUN'), ('?', 'PUNCT')], 'lemmatized_words': ['J.A.R.V.I.S.', ',', 'could', 'you', 'tell', 'I', 'the', 'weather', 'forecast', 'for', 'tomorrow', '?'], 'entities': [('tomorrow', 'DATE')]}\n"
     ]
    }
   ],
   "source": [
    "#processing text using spaCy instead of nltk\n",
    "nlp = spacy.load('en_core_web_sm') # load spacy's english model\n",
    "\n",
    "def spacy_process_text(text):\n",
    "    doc = nlp(text)\n",
    "\n",
    "    tokens = [(token.text, token.pos_) for token in doc] #tokenization and POS tagging\n",
    "    lemmatized_words = [token.lemma_ for token in doc] \n",
    "\n",
    "    entities = [(ent.text, ent.label_) for ent in doc.ents]\n",
    "\n",
    "    return{\n",
    "        \"tokens\": tokens,\n",
    "        \"lemmatized_words\": lemmatized_words,\n",
    "        \"entities\": entities\n",
    "    }\n",
    "\n",
    "text = \"J.A.R.V.I.S., could you tell me the weather forecast for tomorrow?\"\n",
    "result = spacy_process_text(text)\n",
    "print(result)"
   ]
  },
  {
   "cell_type": "code",
   "execution_count": 10,
   "metadata": {},
   "outputs": [
    {
     "name": "stdout",
     "output_type": "stream",
     "text": [
      "Say Something!\n",
      "J.A.R.V.I.S. thinks you said: I want to travel to Japan\n",
      "NLTK Result: {'tokens': ['I', 'want', 'to', 'travel', 'to', 'Japan'], 'pos_tags': [('I', 'PRP'), ('want', 'VBP'), ('to', 'TO'), ('travel', 'VB'), ('to', 'TO'), ('Japan', 'NNP')], 'lemmatized_words': ['I', 'want', 'to', 'travel', 'to', 'Japan']}\n",
      "spaCy Result: {'tokens': [('I', 'PRON'), ('want', 'VERB'), ('to', 'PART'), ('travel', 'VERB'), ('to', 'ADP'), ('Japan', 'PROPN')], 'lemmatized_words': ['I', 'want', 'to', 'travel', 'to', 'Japan'], 'entities': [('Japan', 'GPE')]}\n"
     ]
    }
   ],
   "source": [
    "def micToTextAndProcess():\n",
    "    r = sr.Recognizer()\n",
    "\n",
    "    try:\n",
    "        with sr.Microphone() as source:\n",
    "            print(\"Say Something!\")\n",
    "            r.adjust_for_ambient_noise(source)\n",
    "            audio = r.listen(source)\n",
    "\n",
    "        text = r.recognize_google(audio)\n",
    "        print(\"J.A.R.V.I.S. thinks you said: \"  + text)\n",
    "\n",
    "        #process text with nltk\n",
    "        nltk_result = nltk_process_text(text)\n",
    "        print(\"NLTK Result:\", nltk_result)\n",
    "\n",
    "        #process text with spaCy\n",
    "        spacy_result = spacy_process_text(text)\n",
    "        print(\"spaCy Result:\", spacy_result)\n",
    "\n",
    "    except sr.UnknownValueError:\n",
    "        print(\"J.A.R.V.I.S. could not understand audio\")\n",
    "    except sr.RequestError as e:\n",
    "        print(\"J.A.R.V.I.S. error; {0}\".format(e))\n",
    "\n",
    "micToTextAndProcess()"
   ]
  },
  {
   "cell_type": "code",
   "execution_count": 31,
   "metadata": {},
   "outputs": [],
   "source": [
    "#Conversating with J.A.R.V.I.S \n",
    "#example: weather\n",
    "import requests\n",
    "\n",
    "def handle_weather_intent(city):\n",
    "    api_key = \"c780506ffdd134c8eb9f074195a3b975\"\n",
    "    url = f\"http://api.weatherstack.com/current?access_key={api_key}&query={city}\"\n",
    "\n",
    "    response = requests.get(url)\n",
    "    if response.status_code == 200: #the 200 OK status code means the request was successful\n",
    "        data = response.json()\n",
    "        if 'current' in data:\n",
    "            #weather = data['current']['weather_description'][0]\n",
    "            temperature = data['current']['temperature']\n",
    "            return f\"The weather in {city} has a temperature of {temperature}°C.\"\n",
    "        else:\n",
    "            return \"Sorry, I couldn't fetch the weather infromation right now.\"\n",
    "    else:\n",
    "        return \"Sorry, I couldn't fetch the weather information right now.\"\n",
    "    \n",
    "def handle_greeting_intent():\n",
    "    return \"Hello! How can I assist you today?\"\n",
    "\n",
    "def handle_goodbye_intent():\n",
    "    return \"Goodbye! Have a great day!\"\n",
    "\n",
    "def recognixe_intent(text): # define intent recognition \n",
    "    doc = nlp(text.lower())\n",
    "    if any(token.lemma_ ==\"weather\" for token in doc):\n",
    "        return \"weather\"\n",
    "    elif any(token.lemma_ == \"hello\" or token.lemma_== \"hi\" for token in doc):\n",
    "        return \"greeting\"\n",
    "    elif any(token.lemma_ == \"goodbye\" or token.lemma_== \"bye\" for token in doc):\n",
    "        return \"goodbye\"\n",
    "    else:\n",
    "        return \"unknown\"\n",
    "    \n",
    "def extract_city(text):\n",
    "    doc = nlp(text)\n",
    "    for ent in doc.ents:\n",
    "        if ent.label_ == \"GPE\": # GPE (Geopolitical Entity) label includes cities\n",
    "            print(ent.text)\n",
    "            return ent.text\n",
    "        \n",
    "    # Additional check for common patterns or known city names\n",
    "    common_city_words = [\"in\", \"at\", \"for\"]  # Prepositions commonly used before city names\n",
    "    tokens = text.split()\n",
    "    for i, token in enumerate(tokens):\n",
    "        if token.lower() in common_city_words and i + 1 < len(tokens):\n",
    "            return tokens[i + 1]  # Return the word following the preposition\n",
    "    \n",
    "    return \"City\"\n"
   ]
  },
  {
   "cell_type": "code",
   "execution_count": 32,
   "metadata": {},
   "outputs": [
    {
     "name": "stdout",
     "output_type": "stream",
     "text": [
      "Say Something!\n",
      "J.A.R.V.I.S.: The weather in Mississauga has a temperature of 17°C.\n",
      "Say Something!\n",
      "Goodbye! Have a great day!\n"
     ]
    }
   ],
   "source": [
    "def micToTextAndProcess2():\n",
    "    r = sr.Recognizer()\n",
    "\n",
    "    try:\n",
    "        with sr.Microphone() as source:\n",
    "            print(\"Say Something!\")\n",
    "            r.adjust_for_ambient_noise(source)\n",
    "            audio = r.listen(source)\n",
    "\n",
    "        text = r.recognize_google(audio)\n",
    "        #print(\"J.A.R.V.I.S. thinks you said: \"  + text)\n",
    "\n",
    "        #process text with nltk\n",
    "        nltk_result = nltk_process_text(text)\n",
    "        #print(\"NLTK Result:\", nltk_result)\n",
    "\n",
    "        #process text with spaCy\n",
    "        spacy_result = spacy_process_text(text)\n",
    "        #print(\"spaCy Result:\", spacy_result)\n",
    "\n",
    "        intent = recognixe_intent(text)\n",
    "        if intent == \"weather\":\n",
    "            #city = input(\"Which city would you like the weather for? \")\n",
    "            city = extract_city(text)\n",
    "            if city:\n",
    "                response = handle_weather_intent(city)\n",
    "            else:\n",
    "                response = \"I'm sorry, I couldn't identify the city. Please try again.\"\n",
    "            response = handle_weather_intent(city)\n",
    "        elif intent == \"greeting\":\n",
    "            response = handle_greeting_intent()\n",
    "        elif intent == \"goodbye\":\n",
    "            response = handle_goodbye_intent()\n",
    "            print(response)\n",
    "            return False #exit the loop\n",
    "        else:\n",
    "            response = \"I'm not sure how to respond to that.\"\n",
    "        \n",
    "        print(\"J.A.R.V.I.S.: \" + response)\n",
    "\n",
    "    except sr.UnknownValueError:\n",
    "        print(\"J.A.R.V.I.S. could not understand audio\")\n",
    "    except sr.RequestError as e:\n",
    "        print(\"J.A.R.V.I.S. error; {0}\".format(e))\n",
    "\n",
    "    return True # continue conversation \n",
    "\n",
    "# Conversational loop\n",
    "def converse_with_jarvis():\n",
    "    while True:\n",
    "        continue_conversation = micToTextAndProcess2()\n",
    "        if not continue_conversation:\n",
    "            break\n",
    "\n",
    "converse_with_jarvis() # run the conversational loop"
   ]
  }
 ],
 "metadata": {
  "kernelspec": {
   "display_name": "base",
   "language": "python",
   "name": "python3"
  },
  "language_info": {
   "codemirror_mode": {
    "name": "ipython",
    "version": 3
   },
   "file_extension": ".py",
   "mimetype": "text/x-python",
   "name": "python",
   "nbconvert_exporter": "python",
   "pygments_lexer": "ipython3",
   "version": "3.9.13"
  }
 },
 "nbformat": 4,
 "nbformat_minor": 2
}
